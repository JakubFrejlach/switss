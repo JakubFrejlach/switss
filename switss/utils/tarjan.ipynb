{
 "cells": [
  {
   "cell_type": "code",
   "execution_count": 1,
   "metadata": {
    "tags": []
   },
   "outputs": [
    {
     "output_type": "stream",
     "name": "stdout",
     "text": "[{0, 1, 2}, {4, 6}, {3, 5}, {7}]\n"
    }
   ],
   "source": [
    "# Tarjan's Strongly Connected Components Algorithm\n",
    "# build graph from wikipedia example \n",
    "# https://en.wikipedia.org/wiki/Tarjan%27s_strongly_connected_components_algorithm#/media/File:Tarjan's_Algorithm_Animation.gif\n",
    "# https://en.wikipedia.org/wiki/Tarjan%27s_strongly_connected_components_algorithm\n",
    "\n",
    "V = list(range(8))\n",
    "E = [[0,1],[1,2],[2,0],[3,2],[3,1],[3,5],[4,2],[4,6],[5,4],[5,3],[6,4],[7,5],[7,6],[7,7]]\n",
    "\n",
    "class Node:\n",
    "    def __init__(self, index, lowlink, onstack):\n",
    "        self.index = index\n",
    "        self.lowlink = lowlink\n",
    "        self.onstack = onstack \n",
    "\n",
    "def strongconnect(v,G,stack,nodes,i,scs):\n",
    "    V,E = G\n",
    "    nodev = Node(i, i, True)\n",
    "    i += 1\n",
    "    nodes[v] = nodev\n",
    "    stack.append(v)\n",
    "\n",
    "    for (_,w) in [(u,w) for (u,w) in E if u == v]:\n",
    "        if w not in nodes:\n",
    "            i = strongconnect(w,G,stack,nodes,i,scs)\n",
    "            nodew = nodes[w]\n",
    "            nodev.lowlink = min(nodew.lowlink, nodev.lowlink)\n",
    "        else:\n",
    "            nodew = nodes[w]\n",
    "            if nodew.onstack:\n",
    "                nodev.lowlink = min(nodew.index, nodev.lowlink)\n",
    "    \n",
    "    if nodev.lowlink == nodev.index:\n",
    "        sc = set()\n",
    "        w = None\n",
    "        while w != v:\n",
    "            w = stack.pop()\n",
    "            nodes[w].onstack = False\n",
    "            sc.add(w)\n",
    "        scs.append(sc)\n",
    "        \n",
    "    return i\n",
    "\n",
    "def tarjan(G):\n",
    "    V,E = G\n",
    "    i = 0\n",
    "    stack = []\n",
    "    nodes = {}\n",
    "    scs = []\n",
    "    for v in V:\n",
    "        if v not in nodes:\n",
    "            i = strongconnect(v,G,stack,nodes,i,scs)\n",
    "    return scs\n",
    "\n",
    "print(tarjan((V,E)))\n"
   ]
  },
  {
   "cell_type": "code",
   "execution_count": null,
   "metadata": {},
   "outputs": [],
   "source": []
  }
 ],
 "metadata": {
  "language_info": {
   "codemirror_mode": {
    "name": "ipython",
    "version": 3
   },
   "file_extension": ".py",
   "mimetype": "text/x-python",
   "name": "python",
   "nbconvert_exporter": "python",
   "pygments_lexer": "ipython3",
   "version": 3
  },
  "orig_nbformat": 2,
  "kernelspec": {
   "name": "python_defaultSpec_1598534853559",
   "display_name": "Python 3.8.3 32-bit"
  }
 },
 "nbformat": 4,
 "nbformat_minor": 2
}