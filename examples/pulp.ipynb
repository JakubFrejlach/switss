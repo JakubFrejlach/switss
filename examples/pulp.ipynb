{
 "cells": [
  {
   "cell_type": "code",
   "execution_count": 1,
   "metadata": {},
   "outputs": [],
   "source": [
    "import numpy as np\n",
    "import sys\n",
    "sys.path.insert(0, \"..\")\n",
    "from farkas.solver import MILP, LP, Wrapper"
   ]
  },
  {
   "cell_type": "code",
   "execution_count": 13,
   "metadata": {},
   "outputs": [
    {
     "name": "stdout",
     "output_type": "stream",
     "text": [
      "SolverResult(status=optimal, result=[1.5, 7.0])\n"
     ]
    }
   ],
   "source": [
    "wrapper = Wrapper(\"cbc\")\n",
    "\n",
    "# example for a LP instance. optimal result should be x_opt=[1.5,7.0].\n",
    "A = np.matrix([[2,1],[4,-1],[-8,2],[-1,0],[0,-1]])\n",
    "b = np.array([10,8,2,0,0])\n",
    "opt = np.array([-1,-1])\n",
    "lp = LP(A,b,opt)\n",
    "\n",
    "result = wrapper.solve(lp)\n",
    "print(result)"
   ]
  },
  {
   "cell_type": "code",
   "execution_count": 21,
   "metadata": {},
   "outputs": [
    {
     "name": "stdout",
     "output_type": "stream",
     "text": [
      "(:\n",
      "MINIMIZE\n",
      "-1.0*x0 + -1.0*x1 + 0\n",
      "SUBJECT TO\n",
      "c0: 2 x0 + x1 <= 10\n",
      "\n",
      "c1: 4 x0 - x1 <= 8\n",
      "\n",
      "c2: - 8 x0 + 2 x1 <= 2\n",
      "\n",
      "c3: - x0 <= 0\n",
      "\n",
      "c4: - x1 <= 0\n",
      "\n",
      "VARIABLES\n",
      "x0 free Integer\n",
      "x1 free Continuous\n",
      ", [x0, x1])\n",
      "SolverResult(status=optimal, result=[2.0, 6.0])\n"
     ]
    }
   ],
   "source": [
    "import numpy as np\n",
    "\n",
    "wrapper = Wrapper(\"cbc\")\n",
    "\n",
    "# example for a MILP instance. optimal result should be x_opt=[2,6].\n",
    "# this is the same as the LP instance but with an added integer constraint for the first variable.\n",
    "A = np.matrix([[2,1],[4,-1],[-8,2],[-1,0],[0,-1]])\n",
    "b = np.array([10,8,2,0,0])\n",
    "opt = np.array([-1,-1])\n",
    "I = {0}\n",
    "milp = MILP(A,b,opt,I)\n",
    "print(milp)\n",
    "\n",
    "result = wrapper.solve(milp)\n",
    "print(result)"
   ]
  }
 ],
 "metadata": {
  "kernelspec": {
   "display_name": "Python 3",
   "language": "python",
   "name": "python3"
  },
  "language_info": {
   "codemirror_mode": {
    "name": "ipython",
    "version": 3
   },
   "file_extension": ".py",
   "mimetype": "text/x-python",
   "name": "python",
   "nbconvert_exporter": "python",
   "pygments_lexer": "ipython3",
   "version": "3.6.9"
  }
 },
 "nbformat": 4,
 "nbformat_minor": 4
}
