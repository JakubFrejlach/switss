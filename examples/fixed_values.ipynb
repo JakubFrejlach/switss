{
 "cells": [
  {
   "cell_type": "code",
   "execution_count": 1,
   "metadata": {},
   "outputs": [
    {
     "data": {
      "text/plain": [
       "'Digraph.gv.pdf'"
      ]
     },
     "execution_count": 1,
     "metadata": {},
     "output_type": "execute_result"
    }
   ],
   "source": [
    "from switss.model import DTMC, ReachabilityForm\n",
    "from switss.problem import QSHeur\n",
    "dtmc = DTMC.from_file(\"datasets/crowds-2-3.lab\", \"datasets/crowds-2-3.tra\")\n",
    "rf,_,_ = ReachabilityForm.reduce(dtmc, \"init\", \"target\")\n",
    "rf.system.digraph().view()"
   ]
  },
  {
   "cell_type": "code",
   "execution_count": 9,
   "metadata": {},
   "outputs": [
    {
     "name": "stderr",
     "output_type": "stream",
     "text": [
      "/usr/local/lib/python3.8/dist-packages/PuLP-2.3-py3.8.egg/pulp/apis/coin_api.py:71: UserWarning: Parameter fracGap is being depreciated for gapRel\n",
      "  warnings.warn(\"Parameter fracGap is being depreciated for gapRel\")\n"
     ]
    },
    {
     "data": {
      "text/plain": [
       "'Digraph.gv.pdf'"
      ]
     },
     "execution_count": 9,
     "metadata": {},
     "output_type": "execute_result"
    }
   ],
   "source": [
    "qsheur = QSHeur()\n",
    "result_w26 = qsheur.solve(rf, 0.05, \"min\")\n",
    "result_w26.subsystem.digraph().view()"
   ]
  },
  {
   "cell_type": "code",
   "execution_count": 10,
   "metadata": {},
   "outputs": [
    {
     "name": "stderr",
     "output_type": "stream",
     "text": [
      "/usr/local/lib/python3.8/dist-packages/PuLP-2.3-py3.8.egg/pulp/apis/coin_api.py:71: UserWarning: Parameter fracGap is being depreciated for gapRel\n",
      "  warnings.warn(\"Parameter fracGap is being depreciated for gapRel\")\n"
     ]
    },
    {
     "data": {
      "text/plain": [
       "'Digraph.gv.pdf'"
      ]
     },
     "execution_count": 10,
     "metadata": {},
     "output_type": "execute_result"
    }
   ],
   "source": [
    "# fixes value of indicator constraint for state 26 to 0 -> this state cannot be part of the result\n",
    "result_wo26 = qsheur.solve(rf, 0.05, \"min\", fixed_values = { 26: 0 })\n",
    "result_wo26.subsystem.digraph().view()"
   ]
  },
  {
   "cell_type": "code",
   "execution_count": 14,
   "metadata": {},
   "outputs": [
    {
     "name": "stderr",
     "output_type": "stream",
     "text": [
      "/usr/local/lib/python3.8/dist-packages/PuLP-2.3-py3.8.egg/pulp/apis/coin_api.py:71: UserWarning: Parameter fracGap is being depreciated for gapRel\n",
      "  warnings.warn(\"Parameter fracGap is being depreciated for gapRel\")\n"
     ]
    },
    {
     "data": {
      "text/plain": [
       "'Digraph.gv.pdf'"
      ]
     },
     "execution_count": 14,
     "metadata": {},
     "output_type": "execute_result"
    }
   ],
   "source": [
    "# fixes value of indicator constraint for state 68 to 1 -> this state may or may not be part of the result\n",
    "result_w68 = qsheur.solve(rf, 0.05, \"min\", fixed_values = { 68: 1 })\n",
    "result_w68.subsystem.digraph().view()"
   ]
  },
  {
   "cell_type": "code",
   "execution_count": null,
   "metadata": {},
   "outputs": [],
   "source": []
  }
 ],
 "metadata": {
  "kernelspec": {
   "display_name": "Python 3.6.9 64-bit",
   "language": "python",
   "name": "python36964bit019ac1ddd4de423abf9b086ca7e6df0b"
  },
  "language_info": {
   "codemirror_mode": {
    "name": "ipython",
    "version": 3
   },
   "file_extension": ".py",
   "mimetype": "text/x-python",
   "name": "python",
   "nbconvert_exporter": "python",
   "pygments_lexer": "ipython3",
   "version": "3.8.5"
  }
 },
 "nbformat": 4,
 "nbformat_minor": 4
}
