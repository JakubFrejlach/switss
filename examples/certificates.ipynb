{
 "cells": [
  {
   "cell_type": "code",
   "execution_count": null,
   "metadata": {},
   "outputs": [],
   "source": [
    "import sys\n",
    "sys.path.insert(0, \"..\")\n",
    "from farkas.certification import generate_farkas_certificate, check_farkas_certificate\n",
    "from farkas.model import DTMC,MDP"
   ]
  },
  {
   "cell_type": "code",
   "execution_count": null,
   "metadata": {},
   "outputs": [],
   "source": [
    "M = DTMC.from_prism_model(\"datasets/leader_sync3_2.pm\")\n",
    "M"
   ]
  },
  {
   "cell_type": "code",
   "execution_count": null,
   "metadata": {},
   "outputs": [],
   "source": [
    "M.digraph()"
   ]
  },
  {
   "cell_type": "code",
   "execution_count": null,
   "metadata": {},
   "outputs": [],
   "source": [
    "reach_form,_ = M.reachability_form(\"init\",\"elected\")"
   ]
  },
  {
   "cell_type": "code",
   "execution_count": null,
   "metadata": {},
   "outputs": [],
   "source": [
    "fark_cert1 = generate_farkas_certificate(reach_form,\"max\",\">=\",0.1,solver=\"cbc\")"
   ]
  },
  {
   "cell_type": "code",
   "execution_count": null,
   "metadata": {},
   "outputs": [],
   "source": [
    "check_farkas_certificate(reach_form,\"max\",\">=\",0.1,fark_cert1,tol=1e-8)"
   ]
  },
  {
   "cell_type": "code",
   "execution_count": null,
   "metadata": {},
   "outputs": [],
   "source": [
    "generate_farkas_certificate(reach_form,\"max\",\">=\",1)"
   ]
  },
  {
   "cell_type": "code",
   "execution_count": null,
   "metadata": {},
   "outputs": [],
   "source": [
    "fark_cert1 = generate_farkas_certificate(reach_form,\"max\",\">\",0.8,solver=\"gurobi\")\n",
    "fark_cert2 = generate_farkas_certificate(reach_form,\"max\",\">\",0.8,solver=\"cbc\")"
   ]
  },
  {
   "cell_type": "code",
   "execution_count": null,
   "metadata": {},
   "outputs": [],
   "source": [
    "check_farkas_certificate(reach_form,\"max\",\">\",0.8,fark_cert1,prec=9)"
   ]
  },
  {
   "cell_type": "code",
   "execution_count": null,
   "metadata": {},
   "outputs": [],
   "source": [
    "check_farkas_certificate(reach_form,\"max\",\">\",0.8,fark_cert2,prec=5)"
   ]
  },
  {
   "cell_type": "code",
   "execution_count": null,
   "metadata": {},
   "outputs": [],
   "source": [
    "check_farkas_certificate(reach_form,\"max\",\">\",0.8,fark_cert2,prec=9)"
   ]
  },
  {
   "cell_type": "code",
   "execution_count": null,
   "metadata": {},
   "outputs": [],
   "source": [
    "check_farkas_certificate(reach_form,\"max\",\">\",0.99,fark_cert2)"
   ]
  },
  {
   "cell_type": "code",
   "execution_count": null,
   "metadata": {},
   "outputs": [],
   "source": [
    "M = MDP.from_file(\"datasets/csma-2-2.lab\", \"datasets/csma-2-2.tra\")\n",
    "M"
   ]
  },
  {
   "cell_type": "code",
   "execution_count": null,
   "metadata": {},
   "outputs": [],
   "source": [
    "reach_form,_ = M.reachability_form(\"init\",\"all_delivered\")"
   ]
  },
  {
   "cell_type": "code",
   "execution_count": null,
   "metadata": {},
   "outputs": [],
   "source": [
    "fark_cert = generate_farkas_certificate(reach_form,\"max\",\">=\",0.1,solver=\"gurobi\")\n",
    "print(fark_cert)\n",
    "check_farkas_certificate(reach_form,\"max\",\">=\",0.1,fark_cert,prec=9)"
   ]
  }
 ],
 "metadata": {
  "kernelspec": {
   "display_name": "Python 3",
   "language": "python",
   "name": "python3"
  },
  "language_info": {
   "codemirror_mode": {
    "name": "ipython",
    "version": 3
   },
   "file_extension": ".py",
   "mimetype": "text/x-python",
   "name": "python",
   "nbconvert_exporter": "python",
   "pygments_lexer": "ipython3",
   "version": "3.7.6"
  }
 },
 "nbformat": 4,
 "nbformat_minor": 2
}
