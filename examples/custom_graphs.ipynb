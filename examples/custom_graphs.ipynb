{
 "cells": [
  {
   "cell_type": "code",
   "execution_count": null,
   "metadata": {},
   "outputs": [],
   "source": [
    "from switss.model import DTMC, MDP\n",
    "from switss.utils import color_from_hash"
   ]
  },
  {
   "cell_type": "code",
   "execution_count": null,
   "metadata": {
    "scrolled": false
   },
   "outputs": [],
   "source": [
    "M = DTMC.from_prism_model(\"datasets/crowds.pm\",\n",
    "                          prism_constants={(\"TotalRuns\", 1), (\"CrowdSize\", 2)},\n",
    "                          extra_labels={(\"target\",\"observe0>1\")})\n",
    "\n",
    "def state_map(stateidx, labels):\n",
    "    return { \"color\" : color_from_hash(tuple(sorted(labels))),\n",
    "             \"label\" : \"\",\n",
    "             \"style\" : \"filled\" }\n",
    "\n",
    "def trans_map(stateidx, targetidx, p):\n",
    "    return { \"label\" : \"\" }\n",
    "\n",
    "M.digraph(state_map=state_map, trans_map=trans_map)"
   ]
  },
  {
   "cell_type": "code",
   "execution_count": null,
   "metadata": {
    "scrolled": false
   },
   "outputs": [],
   "source": [
    "# insert small MDP here\n",
    "M = MDP.from_file(\"datasets/test.lab\", \"datasets/test.tra\")\n",
    "\n",
    "def state_map(stateidx, labels):\n",
    "    return { \"color\" : color_from_hash(tuple(sorted(labels))),\n",
    "             \"label\" : \"\",\n",
    "             \"style\" : \"filled\" }\n",
    "\n",
    "def trans_map(stateidx, action, targetidx, p):\n",
    "    return { \"label\" : \"\" }\n",
    "\n",
    "def action_map(sourceidx, action, labels):\n",
    "    return { \"node\" : { \"label\" :  \"\",\n",
    "                        \"color\" : \"black\", \n",
    "                        \"shape\" : \"point\" }, \n",
    "             \"edge\" : { \"color\" : \"black\",\n",
    "                        \"dir\" : \"none\" } }\n",
    "\n",
    "M.digraph(state_map=state_map, trans_map=trans_map, action_map=action_map)"
   ]
  },
  {
   "cell_type": "code",
   "execution_count": null,
   "metadata": {},
   "outputs": [],
   "source": []
  },
  {
   "cell_type": "code",
   "execution_count": null,
   "metadata": {},
   "outputs": [],
   "source": []
  }
 ],
 "metadata": {
  "kernelspec": {
   "display_name": "Python 3",
   "language": "python",
   "name": "python3"
  },
  "language_info": {
   "codemirror_mode": {
    "name": "ipython",
    "version": 3
   },
   "file_extension": ".py",
   "mimetype": "text/x-python",
   "name": "python",
   "nbconvert_exporter": "python",
   "pygments_lexer": "ipython3",
   "version": "3.6.9-final"
  }
 },
 "nbformat": 4,
 "nbformat_minor": 4
}