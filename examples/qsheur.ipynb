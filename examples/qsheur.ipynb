{
 "cells": [
  {
   "cell_type": "code",
   "execution_count": null,
   "metadata": {},
   "outputs": [],
   "source": [
    "import numpy as np\n",
    "import sys\n",
    "sys.path.insert(0, \"..\")\n",
    "from farkas.solver import MILP, LP, Wrapper\n",
    "from farkas.problem import QSHeur\n",
    "from farkas.model import DTMC, MDP"
   ]
  },
  {
   "cell_type": "code",
   "execution_count": null,
   "metadata": {},
   "outputs": [],
   "source": [
    "M = DTMC.from_prism_model(\"datasets/brp.pm\",\n",
    "                          prism_constants={(\"N\",2),(\"MAX\",1)},\n",
    "                          extra_labels={(\"uncertain\",\"s=5 & srep=2\"),(\"all\",\"true\")})"
   ]
  },
  {
   "cell_type": "code",
   "execution_count": null,
   "metadata": {},
   "outputs": [],
   "source": [
    "M.digraph()"
   ]
  },
  {
   "cell_type": "code",
   "execution_count": null,
   "metadata": {},
   "outputs": [],
   "source": [
    "reach_form,_ = M.reachability_form(\"init\",\"uncertain\")\n",
    "DTMC.from_reachability_form(reach_form).digraph()"
   ]
  },
  {
   "cell_type": "code",
   "execution_count": null,
   "metadata": {},
   "outputs": [],
   "source": [
    "qs_min_heur = QSHeur(0.0003,\"min\",solver_name=\"gurobi\")\n",
    "results = qs_min_heur.solve(reach_form)\n",
    "results[0].reachability_form.P.shape"
   ]
  },
  {
   "cell_type": "code",
   "execution_count": null,
   "metadata": {},
   "outputs": [],
   "source": [
    "qs_max_heur = QSHeur(0.0008,\"max\",solver_name=\"cbc\")\n",
    "results = qs_max_heur.solve(reach_form)\n",
    "results[2].reachability_form.P.shape"
   ]
  }
 ],
 "metadata": {
  "kernelspec": {
   "display_name": "Python 3",
   "language": "python",
   "name": "python3"
  },
  "language_info": {
   "codemirror_mode": {
    "name": "ipython",
    "version": 3
   },
   "file_extension": ".py",
   "mimetype": "text/x-python",
   "name": "python",
   "nbconvert_exporter": "python",
   "pygments_lexer": "ipython3",
   "version": "3.7.6"
  }
 },
 "nbformat": 4,
 "nbformat_minor": 2
}
