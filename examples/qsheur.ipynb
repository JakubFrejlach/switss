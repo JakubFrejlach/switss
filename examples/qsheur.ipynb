{
 "cells": [
  {
   "cell_type": "code",
   "execution_count": 1,
   "metadata": {},
   "outputs": [],
   "source": [
    "import numpy as np\n",
    "import sys\n",
    "sys.path.insert(0, \"..\")\n",
    "from farkas.solver import MILP, LP\n",
    "from farkas.problem import QSHeur\n",
    "from farkas.model import DTMC, MDP"
   ]
  },
  {
   "cell_type": "code",
   "execution_count": 2,
   "metadata": {},
   "outputs": [
    {
     "data": {
      "text/plain": [
       "MDP(C=1054, N=1038, labels={init (1), deadlock (0), all_delivered (3), one_delivered (179), collision_max_backoff (2)})"
      ]
     },
     "execution_count": 2,
     "metadata": {},
     "output_type": "execute_result"
    }
   ],
   "source": [
    "# M = DTMC.from_prism_model(\"datasets/brp.pm\",\n",
    "#                           prism_constants={(\"N\",2),(\"MAX\",1)},\n",
    "#                           extra_labels={(\"uncertain\",\"s=5 & srep=2\"),(\"all\",\"true\")})\n",
    "\n",
    "M = MDP.from_file(\"datasets/csma-2-2.lab\", \"datasets/csma-2-2.tra\")\n",
    "M"
   ]
  },
  {
   "cell_type": "code",
   "execution_count": 3,
   "metadata": {},
   "outputs": [],
   "source": [
    "# M.digraph()"
   ]
  },
  {
   "cell_type": "code",
   "execution_count": 4,
   "metadata": {},
   "outputs": [],
   "source": [
    "reach_form,_ = M.reachability_form(\"init\",\"all_delivered\")\n",
    "# DTMC.from_reachability_form(reach_form).digraph()"
   ]
  },
  {
   "cell_type": "code",
   "execution_count": 5,
   "metadata": {},
   "outputs": [
    {
     "name": "stdout",
     "output_type": "stream",
     "text": [
      "-- results --\n",
      "(1055, 1038) (1055,) (1038,) (1054, 1038)\n",
      "iter 0 : ProblemResult(status=success, witness=MinimalWitness(system=ReachabilityForm(C=1054, N=1038, initial=0), states=486))\n",
      "iter 1 : ProblemResult(status=success, witness=MinimalWitness(system=ReachabilityForm(C=1054, N=1038, initial=0), states=486))\n",
      "iter 2 : ProblemResult(status=success, witness=MinimalWitness(system=ReachabilityForm(C=1054, N=1038, initial=0), states=486))\n"
     ]
    }
   ],
   "source": [
    "qs_min_heur = QSHeur(0.4,\"min\",solver_name=\"cbc\")\n",
    "results = qs_min_heur.solve(reach_form)\n",
    "print(\"-- results --\")\n",
    "for idx, r in enumerate(results):\n",
    "    print(\"iter\", idx,\":\",r)"
   ]
  },
  {
   "cell_type": "code",
   "execution_count": 6,
   "metadata": {},
   "outputs": [
    {
     "name": "stdout",
     "output_type": "stream",
     "text": [
      "-- results --\n",
      "iter 0 : ProblemResult(status=success, witness=MinimalWitness(system=ReachabilityForm(C=1054, N=1038, initial=0), states=460.0))\n",
      "iter 1 : ProblemResult(status=success, witness=MinimalWitness(system=ReachabilityForm(C=1054, N=1038, initial=0), states=440.0))\n",
      "iter 2 : ProblemResult(status=success, witness=MinimalWitness(system=ReachabilityForm(C=1054, N=1038, initial=0), states=412.0))\n"
     ]
    }
   ],
   "source": [
    "qs_max_heur = QSHeur(0.1,\"max\",solver_name=\"cbc\")\n",
    "results = qs_max_heur.solve(reach_form)\n",
    "print(\"-- results --\")\n",
    "for idx, r in enumerate(results):\n",
    "    print(\"iter\", idx,\":\",r)"
   ]
  },
  {
   "cell_type": "code",
   "execution_count": null,
   "metadata": {},
   "outputs": [],
   "source": []
  },
  {
   "cell_type": "code",
   "execution_count": null,
   "metadata": {},
   "outputs": [],
   "source": []
  }
 ],
 "metadata": {
  "kernelspec": {
   "display_name": "Python 3",
   "language": "python",
   "name": "python3"
  },
  "language_info": {
   "codemirror_mode": {
    "name": "ipython",
    "version": 3
   },
   "file_extension": ".py",
   "mimetype": "text/x-python",
   "name": "python",
   "nbconvert_exporter": "python",
   "pygments_lexer": "ipython3",
   "version": "3.6.9"
  }
 },
 "nbformat": 4,
 "nbformat_minor": 2
}
