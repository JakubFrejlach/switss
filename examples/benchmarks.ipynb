{
 "cells": [
  {
   "cell_type": "code",
   "execution_count": 1,
   "metadata": {},
   "outputs": [],
   "source": [
    "import sys\n",
    "sys.path.insert(0,\"..\")\n",
    "from farkas import benchmarks as bm\n",
    "from farkas.model import DTMC, ReachabilityForm\n",
    "from farkas.problem import QSHeur\n",
    "import matplotlib.pyplot as plt"
   ]
  },
  {
   "cell_type": "code",
   "execution_count": 40,
   "metadata": {},
   "outputs": [
    {
     "name": "stdout",
     "output_type": "stream",
     "text": [
      "DTMC(C=2038, N=2038, labels={init (1), deadlock (45), target (1001)})\n",
      "ReachabilityForm(C=832, N=832, initial=831, system=DTMC(C=834, N=834, labels={.target (28), .init (1), fail (1), target (1)}))\n"
     ]
    }
   ],
   "source": [
    "M = DTMC.from_prism_model(\"datasets/crowds.pm\",\n",
    "                          prism_constants={(\"TotalRuns\", 8), (\"CrowdSize\", 2)},\n",
    "                          extra_labels={(\"target\",\"observe0>1\")})\n",
    "#M = DTMC.from_file(\"datasets/crowds-2-8.lab\", \"datasets/crowds-2-8.tra\")\n",
    "print(M)\n",
    "rf = ReachabilityForm(M, \"init\", \"target\")\n",
    "print(rf)\n",
    "qsheur = QSHeur(\"min\",iterations=5)"
   ]
  },
  {
   "cell_type": "code",
   "execution_count": null,
   "metadata": {},
   "outputs": [
    {
     "name": "stderr",
     "output_type": "stream",
     "text": [
      "/usr/local/lib/python3.7/site-packages/pulp/pulp.py:1380: UserWarning: Overwriting previously set objective.\n",
      "  warnings.warn(\"Overwriting previously set objective.\")\n"
     ]
    }
   ],
   "source": [
    "data = bm.run(rf, qsheur, from_thr=0.01, to_thr=0.5, step=0.01)"
   ]
  },
  {
   "cell_type": "code",
   "execution_count": null,
   "metadata": {},
   "outputs": [],
   "source": [
    "plt.figure(figsize=(9,8))\n",
    "bm.render(data, mode=\"states-thr\")\n",
    "plt.figure(figsize=(9,8))\n",
    "bm.render(data, mode=\"time-thr\")"
   ]
  },
  {
   "cell_type": "code",
   "execution_count": null,
   "metadata": {},
   "outputs": [],
   "source": []
  }
 ],
 "metadata": {
  "kernelspec": {
   "display_name": "Python 3",
   "language": "python",
   "name": "python3"
  },
  "language_info": {
   "codemirror_mode": {
    "name": "ipython",
    "version": 3
   },
   "file_extension": ".py",
   "mimetype": "text/x-python",
   "name": "python",
   "nbconvert_exporter": "python",
   "pygments_lexer": "ipython3",
   "version": "3.7.6"
  }
 },
 "nbformat": 4,
 "nbformat_minor": 4
}
